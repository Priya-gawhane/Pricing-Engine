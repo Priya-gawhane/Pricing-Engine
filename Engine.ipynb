{
 "cells": [
  {
   "cell_type": "markdown",
   "id": "923d6389-5b6c-4cbc-8b4c-950ccb36bf29",
   "metadata": {},
   "source": [
    "Installing the dependencies"
   ]
  },
  {
   "cell_type": "code",
   "execution_count": 1,
   "id": "cc5620d2-a56a-4f93-8847-670b85754c24",
   "metadata": {},
   "outputs": [
    {
     "name": "stdout",
     "output_type": "stream",
     "text": [
      "Defaulting to user installation because normal site-packages is not writeable\n",
      "Requirement already satisfied: pandas in c:\\users\\admin\\appdata\\roaming\\python\\python313\\site-packages (2.2.3)\n",
      "Requirement already satisfied: numpy>=1.26.0 in c:\\users\\admin\\appdata\\roaming\\python\\python313\\site-packages (from pandas) (2.2.3)\n",
      "Requirement already satisfied: python-dateutil>=2.8.2 in c:\\users\\admin\\appdata\\roaming\\python\\python313\\site-packages (from pandas) (2.9.0.post0)\n",
      "Requirement already satisfied: pytz>=2020.1 in c:\\users\\admin\\appdata\\roaming\\python\\python313\\site-packages (from pandas) (2025.1)\n",
      "Requirement already satisfied: tzdata>=2022.7 in c:\\users\\admin\\appdata\\roaming\\python\\python313\\site-packages (from pandas) (2025.1)\n",
      "Requirement already satisfied: six>=1.5 in c:\\users\\admin\\appdata\\roaming\\python\\python313\\site-packages (from python-dateutil>=2.8.2->pandas) (1.17.0)\n",
      "Note: you may need to restart the kernel to use updated packages.\n"
     ]
    }
   ],
   "source": [
    "pip install pandas"
   ]
  },
  {
   "cell_type": "code",
   "execution_count": 2,
   "id": "59615c1a-ded6-4fb6-bdbd-9a476d95e3bf",
   "metadata": {},
   "outputs": [
    {
     "name": "stdout",
     "output_type": "stream",
     "text": [
      "Defaulting to user installation because normal site-packages is not writeable\n",
      "Requirement already satisfied: numpy in c:\\users\\admin\\appdata\\roaming\\python\\python313\\site-packages (2.2.3)\n",
      "Note: you may need to restart the kernel to use updated packages.\n"
     ]
    }
   ],
   "source": [
    "pip install numpy"
   ]
  },
  {
   "cell_type": "code",
   "execution_count": 3,
   "id": "ab6f1623-6f14-4ce6-b97c-267fa70c842a",
   "metadata": {},
   "outputs": [],
   "source": [
    "import pandas as pd"
   ]
  },
  {
   "cell_type": "markdown",
   "id": "f9719286-c51e-4863-8e12-7c5dea4b3f0b",
   "metadata": {},
   "source": [
    "Data collection"
   ]
  },
  {
   "cell_type": "code",
   "execution_count": 4,
   "id": "99f43fb8-275e-40c3-9905-10fcfb7e471c",
   "metadata": {},
   "outputs": [],
   "source": [
    "products_df = pd.read_csv('products.csv')\n",
    "sales_df = pd.read_csv('sales.csv')"
   ]
  },
  {
   "cell_type": "code",
   "execution_count": 5,
   "id": "6bb93e78-f845-46d9-8707-09f6ce66b9d7",
   "metadata": {},
   "outputs": [
    {
     "data": {
      "text/html": [
       "<div>\n",
       "<style scoped>\n",
       "    .dataframe tbody tr th:only-of-type {\n",
       "        vertical-align: middle;\n",
       "    }\n",
       "\n",
       "    .dataframe tbody tr th {\n",
       "        vertical-align: top;\n",
       "    }\n",
       "\n",
       "    .dataframe thead th {\n",
       "        text-align: right;\n",
       "    }\n",
       "</style>\n",
       "<table border=\"1\" class=\"dataframe\">\n",
       "  <thead>\n",
       "    <tr style=\"text-align: right;\">\n",
       "      <th></th>\n",
       "      <th>sku</th>\n",
       "      <th>name</th>\n",
       "      <th>current_price</th>\n",
       "      <th>cost_price</th>\n",
       "      <th>stock</th>\n",
       "    </tr>\n",
       "  </thead>\n",
       "  <tbody>\n",
       "    <tr>\n",
       "      <th>0</th>\n",
       "      <td>A123</td>\n",
       "      <td>Item A</td>\n",
       "      <td>649.99</td>\n",
       "      <td>500</td>\n",
       "      <td>150</td>\n",
       "    </tr>\n",
       "    <tr>\n",
       "      <th>1</th>\n",
       "      <td>B456</td>\n",
       "      <td>Item B</td>\n",
       "      <td>699.00</td>\n",
       "      <td>550</td>\n",
       "      <td>15</td>\n",
       "    </tr>\n",
       "    <tr>\n",
       "      <th>2</th>\n",
       "      <td>C789</td>\n",
       "      <td>Item C</td>\n",
       "      <td>999.00</td>\n",
       "      <td>500</td>\n",
       "      <td>250</td>\n",
       "    </tr>\n",
       "  </tbody>\n",
       "</table>\n",
       "</div>"
      ],
      "text/plain": [
       "    sku    name  current_price  cost_price  stock\n",
       "0  A123  Item A         649.99         500    150\n",
       "1  B456  Item B         699.00         550     15\n",
       "2  C789  Item C         999.00         500    250"
      ]
     },
     "execution_count": 5,
     "metadata": {},
     "output_type": "execute_result"
    }
   ],
   "source": [
    "products_df.head()"
   ]
  },
  {
   "cell_type": "code",
   "execution_count": 6,
   "id": "1465cdb2-34a2-4570-9ae8-d96871496a25",
   "metadata": {},
   "outputs": [
    {
     "data": {
      "text/html": [
       "<div>\n",
       "<style scoped>\n",
       "    .dataframe tbody tr th:only-of-type {\n",
       "        vertical-align: middle;\n",
       "    }\n",
       "\n",
       "    .dataframe tbody tr th {\n",
       "        vertical-align: top;\n",
       "    }\n",
       "\n",
       "    .dataframe thead th {\n",
       "        text-align: right;\n",
       "    }\n",
       "</style>\n",
       "<table border=\"1\" class=\"dataframe\">\n",
       "  <thead>\n",
       "    <tr style=\"text-align: right;\">\n",
       "      <th></th>\n",
       "      <th>sku</th>\n",
       "      <th>quantity_sold</th>\n",
       "    </tr>\n",
       "  </thead>\n",
       "  <tbody>\n",
       "    <tr>\n",
       "      <th>0</th>\n",
       "      <td>A123</td>\n",
       "      <td>10</td>\n",
       "    </tr>\n",
       "    <tr>\n",
       "      <th>1</th>\n",
       "      <td>B456</td>\n",
       "      <td>35</td>\n",
       "    </tr>\n",
       "    <tr>\n",
       "      <th>2</th>\n",
       "      <td>C789</td>\n",
       "      <td>0</td>\n",
       "    </tr>\n",
       "  </tbody>\n",
       "</table>\n",
       "</div>"
      ],
      "text/plain": [
       "    sku  quantity_sold\n",
       "0  A123             10\n",
       "1  B456             35\n",
       "2  C789              0"
      ]
     },
     "execution_count": 6,
     "metadata": {},
     "output_type": "execute_result"
    }
   ],
   "source": [
    "sales_df.head()"
   ]
  },
  {
   "cell_type": "markdown",
   "id": "955e40fd-2b6c-4c1c-a52c-e742d93814f4",
   "metadata": {},
   "source": [
    " Merge product and sales data"
   ]
  },
  {
   "cell_type": "code",
   "execution_count": 7,
   "id": "5b245d3e-b46a-4639-8d33-b89f83ec629a",
   "metadata": {},
   "outputs": [],
   "source": [
    "merged_df = pd.merge(products_df, sales_df, on='sku', how='left')"
   ]
  },
  {
   "cell_type": "markdown",
   "id": "efcc1dd7-81f5-4c6b-9389-99a02e0c004f",
   "metadata": {},
   "source": [
    "Fill any missing values in quantity_sold with 0"
   ]
  },
  {
   "cell_type": "code",
   "execution_count": 8,
   "id": "2af5be5d-d1fd-4188-94a1-18a6565dbed2",
   "metadata": {},
   "outputs": [],
   "source": [
    "merged_df['quantity_sold'] = merged_df['quantity_sold'].fillna(0)"
   ]
  },
  {
   "cell_type": "code",
   "execution_count": 9,
   "id": "34f43f55-8fc4-4e0c-9728-0f288db01ff4",
   "metadata": {},
   "outputs": [],
   "source": [
    "# Create a new column for new prices, starting with current prices\n",
    "merged_df['new_price'] = merged_df['current_price']"
   ]
  },
  {
   "cell_type": "code",
   "execution_count": 12,
   "id": "473571b7-0b3b-4c21-95dc-deb5c5e24807",
   "metadata": {},
   "outputs": [],
   "source": [
    "# Apply pricing rules in order of precedence\n",
    "for index, row in merged_df.iterrows():\n",
    "    # Rule 1: Low Stock, High Demand\n",
    "    if row['stock'] < 20 and row['quantity_sold'] > 30:\n",
    "        merged_df.at[index, 'new_price'] = row['current_price'] * 1.15\n",
    "    \n",
    "    # Rule 2: Dead Stock\n",
    "    elif row['stock'] > 200 and row['quantity_sold'] == 0:\n",
    "        merged_df.at[index, 'new_price'] = row['current_price'] * 0.7\n",
    "    \n",
    "    # Rule 3: Overstocked Inventory\n",
    "    elif row['stock'] > 100 and row['quantity_sold'] < 20:\n",
    "        merged_df.at[index, 'new_price'] = row['current_price'] * 0.9\n",
    "    \n",
    "    # Rule 4: Minimum Profit Constraint (always applied)\n",
    "    min_price = row['cost_price'] * 1.2\n",
    "    if merged_df.at[index, 'new_price'] < min_price:\n",
    "        merged_df.at[index, 'new_price'] = min_price\n",
    "    \n",
    "    # Final rounding\n",
    "    merged_df.at[index, 'new_price'] = round(merged_df.at[index, 'new_price'], 2)"
   ]
  },
  {
   "cell_type": "code",
   "execution_count": 13,
   "id": "4fdd3992-013e-4da6-bcfc-c2466fb6dec6",
   "metadata": {},
   "outputs": [],
   "source": [
    " # Create output dataframe with required columns\n",
    "output_df = merged_df[['sku', 'current_price', 'new_price']].copy()\n",
    "output_df = output_df.rename(columns={'current_price': 'old_price'})"
   ]
  },
  {
   "cell_type": "code",
   "execution_count": 14,
   "id": "08264f22-5f2b-4676-90ed-9cb3ffd68139",
   "metadata": {},
   "outputs": [],
   "source": [
    "# Add $ units to prices\n",
    "output_df['old_price'] = '$' + output_df['old_price'].astype(str)\n",
    "output_df['new_price'] = '$' + output_df['new_price'].astype(str)"
   ]
  },
  {
   "cell_type": "code",
   "execution_count": 15,
   "id": "a791febc-7498-4988-af2e-ed57a285f0ac",
   "metadata": {},
   "outputs": [],
   "source": [
    "# Save to CSV\n",
    "output_df.to_csv('updated_prices.csv', index=False)"
   ]
  },
  {
   "cell_type": "code",
   "execution_count": 16,
   "id": "da1fa501-410e-4540-b325-fbe1abe81039",
   "metadata": {},
   "outputs": [
    {
     "name": "stdout",
     "output_type": "stream",
     "text": [
      "Updated prices calculated successfully!\n",
      "    sku old_price new_price\n",
      "0  A123   $649.99    $600.0\n",
      "1  B456    $699.0   $803.85\n",
      "2  C789    $999.0    $699.3\n"
     ]
    }
   ],
   "source": [
    "# Display results\n",
    "print(\"Updated prices calculated successfully!\")\n",
    "print(output_df)"
   ]
  },
  {
   "cell_type": "code",
   "execution_count": null,
   "id": "bcca2097-7ba5-4a88-9061-d399876945ec",
   "metadata": {},
   "outputs": [],
   "source": []
  }
 ],
 "metadata": {
  "kernelspec": {
   "display_name": "Python 3 (ipykernel)",
   "language": "python",
   "name": "python3"
  },
  "language_info": {
   "codemirror_mode": {
    "name": "ipython",
    "version": 3
   },
   "file_extension": ".py",
   "mimetype": "text/x-python",
   "name": "python",
   "nbconvert_exporter": "python",
   "pygments_lexer": "ipython3",
   "version": "3.13.2"
  }
 },
 "nbformat": 4,
 "nbformat_minor": 5
}
